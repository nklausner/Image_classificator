{
 "cells": [
  {
   "cell_type": "code",
   "execution_count": 1,
   "id": "2cc5ecb4-4a5a-4d8a-b20b-fb65327f534f",
   "metadata": {},
   "outputs": [
    {
     "name": "stderr",
     "output_type": "stream",
     "text": [
      "2021-08-26 20:47:43.800999: W tensorflow/stream_executor/platform/default/dso_loader.cc:64] Could not load dynamic library 'libcudart.so.11.0'; dlerror: libcudart.so.11.0: cannot open shared object file: No such file or directory\n",
      "2021-08-26 20:47:43.801034: I tensorflow/stream_executor/cuda/cudart_stub.cc:29] Ignore above cudart dlerror if you do not have a GPU set up on your machine.\n"
     ]
    }
   ],
   "source": [
    "import os\n",
    "import cv2 \n",
    "import numpy as np\n",
    "import matplotlib.pyplot as plt\n",
    "from tensorflow import keras\n",
    "from tensorflow.keras.applications import mobilenet_v2\n",
    "from tensorflow.keras import preprocessing\n",
    "from tensorflow.keras import backend as K"
   ]
  },
  {
   "cell_type": "markdown",
   "id": "448e91c2-8c10-4e12-a015-7d97453319ed",
   "metadata": {},
   "source": [
    "### Getting image data into keras¶"
   ]
  },
  {
   "cell_type": "code",
   "execution_count": 2,
   "id": "730b7bf6-46d6-44a2-82b3-bc7044f2de68",
   "metadata": {},
   "outputs": [],
   "source": [
    "# this are the folder names of the things you want to classify\n",
    "classes = ['fork', 'knife', 'spoon']\n",
    "# plug in the path to your data folder\n",
    "base_path = '../images/'"
   ]
  },
  {
   "cell_type": "code",
   "execution_count": 3,
   "id": "f9b009e7-ac40-46f1-8178-d23f0fa291f8",
   "metadata": {},
   "outputs": [],
   "source": [
    "# define an image data generator\n",
    "data_gen = preprocessing.image.ImageDataGenerator(\n",
    "    # define the preprocessing function that should be applied to all images\n",
    "    preprocessing_function=mobilenet_v2.preprocess_input,\n",
    "    # fill_mode='nearest',\n",
    "    # rotation_range=20,\n",
    "    # width_shift_range=0.2,\n",
    "    # height_shift_range=0.2,\n",
    "    # horizontal_flip=True, \n",
    "    # zoom_range=0.2,\n",
    "    # shear_range=0.2    \n",
    ")"
   ]
  },
  {
   "cell_type": "code",
   "execution_count": 4,
   "id": "7af00289-fd1d-4c6b-9485-be7fce6775b0",
   "metadata": {},
   "outputs": [
    {
     "name": "stdout",
     "output_type": "stream",
     "text": [
      "Found 391 images belonging to 3 classes.\n"
     ]
    }
   ],
   "source": [
    "# a generator that returns batches of X and y arrays\n",
    "train_data_gen = data_gen.flow_from_directory(\n",
    "        directory=base_path,\n",
    "        class_mode=\"categorical\",\n",
    "        classes=classes,\n",
    "        batch_size=390,\n",
    "        target_size=(224, 224)\n",
    ")"
   ]
  },
  {
   "cell_type": "code",
   "execution_count": 5,
   "id": "ed5a5b6b-73ed-4d71-b301-a2805b8e006f",
   "metadata": {},
   "outputs": [
    {
     "data": {
      "text/plain": [
       "((390, 224, 224, 3), (390, 3))"
      ]
     },
     "execution_count": 5,
     "metadata": {},
     "output_type": "execute_result"
    }
   ],
   "source": [
    "# load in all images at once\n",
    "xtrain, ytrain = next(train_data_gen)\n",
    "xtrain.shape, ytrain.shape"
   ]
  },
  {
   "cell_type": "markdown",
   "id": "f376d28c-8933-4d0d-a5b3-e04bf3d919c2",
   "metadata": {},
   "source": [
    "### Transfer Learning with mobilenet"
   ]
  },
  {
   "cell_type": "code",
   "execution_count": 35,
   "id": "0299fa54-d24a-47d0-ba65-b798187184fc",
   "metadata": {},
   "outputs": [],
   "source": [
    "K.clear_session()"
   ]
  },
  {
   "cell_type": "code",
   "execution_count": 36,
   "id": "1cac5872-f810-4c31-85d3-d0caa0b0e9e5",
   "metadata": {},
   "outputs": [],
   "source": [
    "base_model = mobilenet_v2.MobileNetV2(\n",
    "    weights='imagenet', \n",
    "    alpha=0.35,         # specific parameter of this model, small alpha reduces the number of overall weights\n",
    "    pooling='avg',      # applies global average pooling to the output of the last conv layer (like a flattening)\n",
    "    include_top=False,  # we only want to have the base, not the final dense layers (!!! thats the key !!!)\n",
    "    input_shape=(224, 224, 3)\n",
    ")\n",
    "\n",
    "# freeze it!\n",
    "base_model.trainable = False"
   ]
  },
  {
   "cell_type": "code",
   "execution_count": 37,
   "id": "ab15fa9a-080b-4153-99d4-9ac288653559",
   "metadata": {},
   "outputs": [
    {
     "name": "stdout",
     "output_type": "stream",
     "text": [
      "Model: \"sequential\"\n",
      "_________________________________________________________________\n",
      "Layer (type)                 Output Shape              Param #   \n",
      "=================================================================\n",
      "mobilenetv2_0.35_224 (Functi (None, 1280)              410208    \n",
      "_________________________________________________________________\n",
      "dense (Dense)                (None, 24)                30744     \n",
      "_________________________________________________________________\n",
      "dropout (Dropout)            (None, 24)                0         \n",
      "_________________________________________________________________\n",
      "batch_normalization (BatchNo (None, 24)                96        \n",
      "_________________________________________________________________\n",
      "dense_1 (Dense)              (None, 3)                 75        \n",
      "=================================================================\n",
      "Total params: 441,123\n",
      "Trainable params: 30,867\n",
      "Non-trainable params: 410,256\n",
      "_________________________________________________________________\n"
     ]
    }
   ],
   "source": [
    "model = keras.Sequential()\n",
    "# pretrained base model with lots of convolution steps\n",
    "model.add(base_model)\n",
    "\n",
    "# hidden dense layer\n",
    "model.add(keras.layers.Dense(24, activation='relu'))\n",
    "model.add(keras.layers.Dropout(0.2))\n",
    "model.add(keras.layers.BatchNormalization())\n",
    "\n",
    "# output layer\n",
    "model.add(keras.layers.Dense(len(classes), activation='softmax'))\n",
    "\n",
    "model.summary()"
   ]
  },
  {
   "cell_type": "code",
   "execution_count": 38,
   "id": "047c493c-9065-40e9-9164-5b58831d32c1",
   "metadata": {},
   "outputs": [],
   "source": [
    "model.compile(optimizer=keras.optimizers.Adam(learning_rate=0.001),\n",
    "              loss=keras.losses.categorical_crossentropy,\n",
    "              metrics=[keras.metrics.categorical_accuracy])"
   ]
  },
  {
   "cell_type": "code",
   "execution_count": 39,
   "id": "7f07480d-4d0b-4132-9cbc-bdee19a1bb0d",
   "metadata": {},
   "outputs": [],
   "source": [
    "# observe the validation loss and stop when it does not improve after 5 iterations\n",
    "callback = keras.callbacks.EarlyStopping(monitor='val_loss', patience=5)"
   ]
  },
  {
   "cell_type": "code",
   "execution_count": 40,
   "id": "2c80263d-ef15-4e92-9956-9741ee4ce2ec",
   "metadata": {},
   "outputs": [
    {
     "name": "stdout",
     "output_type": "stream",
     "text": [
      "Epoch 1/50\n",
      "4/4 - 9s - loss: 1.1313 - categorical_accuracy: 0.4904 - val_loss: 1.1973 - val_categorical_accuracy: 0.3462\n",
      "Epoch 2/50\n",
      "4/4 - 4s - loss: 0.6726 - categorical_accuracy: 0.7179 - val_loss: 1.1158 - val_categorical_accuracy: 0.4231\n",
      "Epoch 3/50\n",
      "4/4 - 5s - loss: 0.5259 - categorical_accuracy: 0.7917 - val_loss: 0.9683 - val_categorical_accuracy: 0.4487\n",
      "Epoch 4/50\n",
      "4/4 - 4s - loss: 0.4305 - categorical_accuracy: 0.8397 - val_loss: 0.8429 - val_categorical_accuracy: 0.5513\n",
      "Epoch 5/50\n",
      "4/4 - 4s - loss: 0.3694 - categorical_accuracy: 0.8750 - val_loss: 0.7467 - val_categorical_accuracy: 0.6538\n",
      "Epoch 6/50\n",
      "4/4 - 4s - loss: 0.3105 - categorical_accuracy: 0.8974 - val_loss: 0.6997 - val_categorical_accuracy: 0.7051\n",
      "Epoch 7/50\n",
      "4/4 - 4s - loss: 0.2775 - categorical_accuracy: 0.9231 - val_loss: 0.6767 - val_categorical_accuracy: 0.7179\n",
      "Epoch 8/50\n",
      "4/4 - 4s - loss: 0.2493 - categorical_accuracy: 0.9359 - val_loss: 0.6556 - val_categorical_accuracy: 0.7308\n",
      "Epoch 9/50\n",
      "4/4 - 4s - loss: 0.2368 - categorical_accuracy: 0.9455 - val_loss: 0.6129 - val_categorical_accuracy: 0.7564\n",
      "Epoch 10/50\n",
      "4/4 - 4s - loss: 0.2165 - categorical_accuracy: 0.9455 - val_loss: 0.5805 - val_categorical_accuracy: 0.8205\n",
      "Epoch 11/50\n",
      "4/4 - 4s - loss: 0.2034 - categorical_accuracy: 0.9423 - val_loss: 0.5619 - val_categorical_accuracy: 0.8077\n",
      "Epoch 12/50\n",
      "4/4 - 4s - loss: 0.1725 - categorical_accuracy: 0.9712 - val_loss: 0.5434 - val_categorical_accuracy: 0.8333\n",
      "Epoch 13/50\n",
      "4/4 - 4s - loss: 0.1571 - categorical_accuracy: 0.9647 - val_loss: 0.5492 - val_categorical_accuracy: 0.8462\n",
      "Epoch 14/50\n",
      "4/4 - 4s - loss: 0.1327 - categorical_accuracy: 0.9840 - val_loss: 0.5457 - val_categorical_accuracy: 0.8462\n",
      "Epoch 15/50\n",
      "4/4 - 4s - loss: 0.1433 - categorical_accuracy: 0.9712 - val_loss: 0.5293 - val_categorical_accuracy: 0.8462\n",
      "Epoch 16/50\n",
      "4/4 - 4s - loss: 0.1211 - categorical_accuracy: 0.9776 - val_loss: 0.5092 - val_categorical_accuracy: 0.8333\n",
      "Epoch 17/50\n",
      "4/4 - 4s - loss: 0.1165 - categorical_accuracy: 0.9872 - val_loss: 0.4981 - val_categorical_accuracy: 0.8462\n",
      "Epoch 18/50\n",
      "4/4 - 4s - loss: 0.0990 - categorical_accuracy: 0.9968 - val_loss: 0.4912 - val_categorical_accuracy: 0.8462\n",
      "Epoch 19/50\n",
      "4/4 - 4s - loss: 0.0906 - categorical_accuracy: 0.9936 - val_loss: 0.4850 - val_categorical_accuracy: 0.8462\n",
      "Epoch 20/50\n",
      "4/4 - 4s - loss: 0.0968 - categorical_accuracy: 0.9968 - val_loss: 0.4884 - val_categorical_accuracy: 0.8462\n",
      "Epoch 21/50\n",
      "4/4 - 4s - loss: 0.0783 - categorical_accuracy: 1.0000 - val_loss: 0.4908 - val_categorical_accuracy: 0.8333\n",
      "Epoch 22/50\n",
      "4/4 - 4s - loss: 0.0787 - categorical_accuracy: 0.9936 - val_loss: 0.4894 - val_categorical_accuracy: 0.8333\n",
      "Epoch 23/50\n",
      "4/4 - 4s - loss: 0.0738 - categorical_accuracy: 0.9968 - val_loss: 0.4878 - val_categorical_accuracy: 0.8333\n",
      "Epoch 24/50\n",
      "4/4 - 4s - loss: 0.0766 - categorical_accuracy: 0.9904 - val_loss: 0.4851 - val_categorical_accuracy: 0.8333\n",
      "fit complete\n"
     ]
    }
   ],
   "source": [
    "history = model.fit(xtrain, ytrain, \n",
    "                    epochs=50, \n",
    "                    verbose=2,\n",
    "                    batch_size=78, \n",
    "                    callbacks=[callback],\n",
    "                    validation_split=0.2)\n",
    "\n",
    "print('fit complete')"
   ]
  },
  {
   "cell_type": "markdown",
   "id": "c3d6143e-73bc-443b-95c4-7ed9bfec9e24",
   "metadata": {},
   "source": [
    "### Evaluation"
   ]
  },
  {
   "cell_type": "markdown",
   "id": "26bf830b-2e08-4e00-bc6f-e58e9dfd31d6",
   "metadata": {},
   "source": [
    "Dense(30, 'relu'), Dropout(0.2), Batchnormalization()\n",
    "- val_categorical_accuracy: 0.8205 (max. 0.9103 means 71/78)\n",
    "- val_loss: 0.4071 (min. 0.3781)"
   ]
  },
  {
   "cell_type": "code",
   "execution_count": 41,
   "id": "3685f07d-451b-4036-a480-02513d89fbf8",
   "metadata": {},
   "outputs": [
    {
     "data": {
      "image/png": "[encoded data removed]",
      "text/plain": [
       "<Figure size 1440x720 with 1 Axes>"
      ]
     },
     "metadata": {
      "needs_background": "light"
     },
     "output_type": "display_data"
    }
   ],
   "source": [
    "plt.figure(figsize=(20,10))\n",
    "plt.plot(history.history['loss'], c='b')\n",
    "plt.plot(history.history['val_loss'], c='r')\n",
    "plt.plot(history.history['categorical_accuracy'], c='c')\n",
    "plt.plot(history.history['val_categorical_accuracy'], c='m')\n",
    "plt.ylim(0.0, 1.0)\n",
    "plt.yticks(np.arange(0.0, 1.0, 0.1))\n",
    "plt.grid(axis = 'y')\n",
    "plt.xlabel('epochs')\n",
    "plt.ylabel('score')\n",
    "plt.show()"
   ]
  },
  {
   "cell_type": "code",
   "execution_count": 34,
   "id": "23c39dee-c867-4051-b7ad-fd6dfdea88ea",
   "metadata": {},
   "outputs": [
    {
     "name": "stderr",
     "output_type": "stream",
     "text": [
      "/home/nico/anaconda3/envs/my_deep_learning/lib/python3.9/site-packages/keras/utils/generic_utils.py:494: CustomMaskWarning: Custom mask layers require a config and must override get_config. When loading, the custom mask layer must be passed to the custom_objects argument.\n",
      "  warnings.warn('Custom mask layers require a config and must override '\n"
     ]
    }
   ],
   "source": [
    "model.save('mobilenetV2_cutlery.h5')"
   ]
  },
  {
   "cell_type": "code",
   "execution_count": null,
   "id": "104f563a-644b-4fb1-a653-262dab318683",
   "metadata": {},
   "outputs": [],
   "source": []
  }
 ],
 "metadata": {
  "kernelspec": {
   "display_name": "Python 3 (ipykernel)",
   "language": "python",
   "name": "python3"
  },
  "language_info": {
   "codemirror_mode": {
    "name": "ipython",
    "version": 3
   },
   "file_extension": ".py",
   "mimetype": "text/x-python",
   "name": "python",
   "nbconvert_exporter": "python",
   "pygments_lexer": "ipython3",
   "version": "3.9.6"
  }
 },
 "nbformat": 4,
 "nbformat_minor": 5
}
